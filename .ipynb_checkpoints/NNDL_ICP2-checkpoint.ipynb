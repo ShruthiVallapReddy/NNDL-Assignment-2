{
 "cells": [
  {
   "cell_type": "code",
   "execution_count": 1,
   "id": "c556234f",
   "metadata": {},
   "outputs": [
    {
     "name": "stdout",
     "output_type": "stream",
     "text": [
      "Enter your first name:Shruthi\n",
      "Enter your last name:Vallap Reddy\n",
      "Shruthi Vallap Reddy\n"
     ]
    }
   ],
   "source": [
    "def full_name(fname,lname):\n",
    "    print(fname+\" \"+lname)\n",
    "first_name=input(\"Enter your first name:\")\n",
    "last_name=input(\"Enter your last name:\")\n",
    "full_name(first_name,last_name)"
   ]
  },
  {
   "cell_type": "code",
   "execution_count": 4,
   "id": "370f8d70",
   "metadata": {},
   "outputs": [
    {
     "name": "stdout",
     "output_type": "stream",
     "text": [
      "Good evening\n",
      "Go vnn\n"
     ]
    }
   ],
   "source": [
    "def string_alternative(str):\n",
    "     print(str[0:len(str):2])\n",
    "string_alternative(input())\n"
   ]
  },
  {
   "cell_type": "code",
   "execution_count": 8,
   "id": "424cbbf1",
   "metadata": {},
   "outputs": [
    {
     "name": "stdout",
     "output_type": "stream",
     "text": [
      "Python Course\n",
      "Deep Learning Course\n"
     ]
    }
   ],
   "source": [
    "f = open(r\"C:\\Users\\15014\\Documents\\GitHub\\Deep-Learning-Assignment-2\\Demo.txt\",\"r\")\n",
    "output=f.read()\n",
    "print(output)\n",
    "\n",
    "f = open(r\"C:\\Users\\15014\\Documents\\GitHub\\Deep-Learning-Assignment-2\\output.txt\", \"w\")\n",
    "f.write(output)\n",
    "f.write(\"\\n Word_Count:\\n\")\n",
    "\n",
    "P=output.count(\"Python\")\n",
    "f.write(\"Python:\"+str(P)+\"\\n\");\n",
    "C=output.count(\"Course\")\n",
    "f.write(\"Course:\"+str(C)+\"\\n\");\n",
    "D=output.count(\"Deep\")\n",
    "f.write(\"Deep:\"+str(D)+\"\\n\");\n",
    "L=output.count(\"Learning\")\n",
    "f.write(\"Learning:\"+str(L)+\"\\n\");\n",
    "f.close()\n"
   ]
  },
  {
   "cell_type": "code",
   "execution_count": 3,
   "id": "4fa079ad",
   "metadata": {},
   "outputs": [
    {
     "name": "stdout",
     "output_type": "stream",
     "text": [
      "[381.0, 393.7, 368.3, 375.92]\n",
      "[381.0, 393.7, 368.3, 375.92]\n"
     ]
    }
   ],
   "source": [
    "L1=[150,155, 145, 148]\n",
    "output = []\n",
    "for x in L1:\n",
    "    output.append(x*2.54)\n",
    "    \n",
    "print(output)\n",
    "newlist = [x*2.54 for x in L1 ]\n",
    "print(newlist)\n",
    "\n",
    "\n",
    " "
   ]
  },
  {
   "cell_type": "code",
   "execution_count": null,
   "id": "16e327d3",
   "metadata": {},
   "outputs": [],
   "source": []
  }
 ],
 "metadata": {
  "kernelspec": {
   "display_name": "Python 3 (ipykernel)",
   "language": "python",
   "name": "python3"
  },
  "language_info": {
   "codemirror_mode": {
    "name": "ipython",
    "version": 3
   },
   "file_extension": ".py",
   "mimetype": "text/x-python",
   "name": "python",
   "nbconvert_exporter": "python",
   "pygments_lexer": "ipython3",
   "version": "3.11.1"
  }
 },
 "nbformat": 4,
 "nbformat_minor": 5
}
